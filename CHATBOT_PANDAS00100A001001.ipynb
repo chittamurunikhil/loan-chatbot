{
  "cells": [
    {
      "cell_type": "markdown",
      "metadata": {
        "id": "oLJzDLNsVudv"
      },
      "source": [
        "# DATA SYNOPSIS"
      ]
    },
    {
      "cell_type": "code",
      "execution_count": null,
      "metadata": {
        "id": "ypsGeqZiV6SY"
      },
      "outputs": [],
      "source": [
        "#importing required libraries\n",
        "import numpy as np\n",
        "import pandas as pd\n",
        "import matplotlib.pyplot as plt\n",
        "%matplotlib inline\n",
        "import seaborn as sns\n",
        "import re\n",
        "import random\n",
        "import string\n",
        "import warnings\n",
        "warnings.filterwarnings(\"ignore\")\n",
        "import datetime\n",
        "from datetime import timedelta\n",
        "import time"
      ]
    },
    {
      "cell_type": "code",
      "execution_count": null,
      "metadata": {
        "id": "8xiIqK58Xu6K"
      },
      "outputs": [],
      "source": [
        "#importing data\n",
        "apprecord_df = pd.read_csv(\"https://docs.google.com/spreadsheets/d/e/2PACX-1vRrUs2YukMSuRAufitU9hKvEm76XDbf-8l4zWGnnZZr1nunuUL_V6tPga1gZikXjnADpBlNJAzyU9s_/pub?output=csv\")\n",
        "credrecord_df = pd.read_csv(\"https://docs.google.com/spreadsheets/d/e/2PACX-1vQ-olGb3tNztV0BdJj7xR3IPUOoLsRmg4zAQN72sa3ixryOOrWWEJKi7MfOHI_tYroLIvkFSbicxF2O/pub?output=csv\")"
      ]
    },
    {
      "cell_type": "code",
      "execution_count": null,
      "metadata": {
        "id": "polS6tf_YI-l"
      },
      "outputs": [],
      "source": [
        "#viewing data\n",
        "display(apprecord_df.head(5),apprecord_df.shape)\n",
        "display(credrecord_df.head(5),credrecord_df.shape)"
      ]
    },
    {
      "cell_type": "code",
      "execution_count": null,
      "metadata": {
        "id": "5ENn4ugjZ1QK"
      },
      "outputs": [],
      "source": [
        "time1 = time.time()\n",
        "data = pd.merge(apprecord_df,credrecord_df,on=\"ID\")\n",
        "df_all = data\n",
        "display(df_all,df_all.shape)"
      ]
    },
    {
      "cell_type": "code",
      "execution_count": null,
      "metadata": {
        "id": "-KmLU_zna-I9"
      },
      "outputs": [],
      "source": [
        "display(apprecord_df[apprecord_df[\"ID\"]==5008804])\n",
        "display(credrecord_df[credrecord_df[\"ID\"]==5008804])"
      ]
    },
    {
      "cell_type": "code",
      "execution_count": null,
      "metadata": {
        "id": "SVu2WnRrbg4A"
      },
      "outputs": [],
      "source": [
        "for column in df_all.columns:\n",
        "  display(df_all[column].value_counts())"
      ]
    },
    {
      "cell_type": "code",
      "execution_count": null,
      "metadata": {
        "id": "MkhztyJylQKb"
      },
      "outputs": [],
      "source": [
        "display(df_all[df_all[\"DAYS_EMPLOYED\"]== 365243][\"NAME_INCOME_TYPE\"].value_counts())"
      ]
    },
    {
      "cell_type": "code",
      "execution_count": null,
      "metadata": {
        "id": "pZ8ArjAAdsIJ"
      },
      "outputs": [],
      "source": [
        "df_all.describe(include = \"all\")"
      ]
    },
    {
      "cell_type": "code",
      "execution_count": null,
      "metadata": {
        "id": "Qas7NtA-hVty"
      },
      "outputs": [],
      "source": [
        "df_all.info()"
      ]
    },
    {
      "cell_type": "code",
      "execution_count": null,
      "metadata": {
        "id": "if-QItf5ima4"
      },
      "outputs": [],
      "source": [
        "df_all.corr()"
      ]
    },
    {
      "cell_type": "markdown",
      "metadata": {
        "id": "8L40u_jkjb8u"
      },
      "source": [
        "#DATA CLEANING"
      ]
    },
    {
      "cell_type": "code",
      "execution_count": null,
      "metadata": {
        "id": "DrWuboqzjpj2"
      },
      "outputs": [],
      "source": [
        "#STEPS\n",
        "#check missing values\n",
        "#handling missing values\n",
        "#cleaning wrong data\n",
        "#check duplicate values\n",
        "#drop unneccesary columns\n"
      ]
    },
    {
      "cell_type": "code",
      "execution_count": null,
      "metadata": {
        "id": "MZOgJzZ_mFeB"
      },
      "outputs": [],
      "source": [
        "# checking missing values\n",
        "df_all.isna()"
      ]
    },
    {
      "cell_type": "code",
      "execution_count": null,
      "metadata": {
        "id": "jU8X8oQOmskE"
      },
      "outputs": [],
      "source": [
        "df_all.isna().any()"
      ]
    },
    {
      "cell_type": "code",
      "execution_count": null,
      "metadata": {
        "id": "EG0ACjmYm9Jy"
      },
      "outputs": [],
      "source": [
        "df_all.isna().sum()"
      ]
    },
    {
      "cell_type": "code",
      "execution_count": null,
      "metadata": {
        "id": "Bi_iJlsVnN7T"
      },
      "outputs": [],
      "source": [
        "#handling missing values\n",
        "#here we can see the occupation type has missing values\n",
        "df_all[\"OCCUPATION_TYPE\"].value_counts()"
      ]
    },
    {
      "cell_type": "code",
      "execution_count": null,
      "metadata": {
        "id": "Q9pqxCarJs_z"
      },
      "outputs": [],
      "source": [
        "#filling the missing values in the column OCCUPATIONAL_TYPE\n",
        "df_all[\"OCCUPATION_TYPE\"].fillna(\"Others\",inplace = True)"
      ]
    },
    {
      "cell_type": "code",
      "execution_count": null,
      "metadata": {
        "id": "nU9C6SKbKy0B"
      },
      "outputs": [],
      "source": [
        "#checking again for null values\n",
        "df_all.isna().any()"
      ]
    },
    {
      "cell_type": "code",
      "execution_count": null,
      "metadata": {
        "id": "hGw_wbP55eax"
      },
      "outputs": [],
      "source": [
        "#in DAYS_WORKED column we can find value which is 365243\n",
        "\"\"\"for x in df_all.index:\n",
        "    if df_all.loc[x,\"DAYS_EMPLOYED\" ]== 365243:\n",
        "      df_all.loc[x,\"DAYS_EMPLOYED\"]= 36500\n",
        "df_all[\"DAYS_EMPLOYED\"]\"\"\"\n",
        "#this is not not recommended as it is taking much time\n",
        "#loc and iloc are useful for getting multiple items at a time\n",
        "#at and iat are useful for getting single value at a time"
      ]
    },
    {
      "cell_type": "code",
      "execution_count": null,
      "metadata": {
        "id": "7AeSpPInv6Q6"
      },
      "outputs": [],
      "source": [
        "#cleaning wrong data\n",
        "#in DAYS_WORKED column we can find value which is 365243\n",
        "\"\"\"for x in df_all.index:\n",
        "    if df_all.at[x,\"DAYS_EMPLOYED\" ]== 365243:\n",
        "      df_all.at[x,\"DAYS_EMPLOYED\"]= 36500\n",
        "df_all[\"DAYS_EMPLOYED\"]\"\"\""
      ]
    },
    {
      "cell_type": "code",
      "execution_count": null,
      "metadata": {
        "id": "FYZbGXEaET8M"
      },
      "outputs": [],
      "source": [
        "#cleaning wrong data\n",
        "#in DAYS_WORKED column we can find value which is 365243\n",
        "df_all.loc[df_all['DAYS_EMPLOYED']== 365243,'DAYS_EMPLOYED']= 36500"
      ]
    },
    {
      "cell_type": "code",
      "execution_count": null,
      "metadata": {
        "id": "zwJ7GYsQLRm0"
      },
      "outputs": [],
      "source": [
        "#checking for duplicated columns\n",
        "df_all.duplicated().sum()"
      ]
    },
    {
      "cell_type": "code",
      "execution_count": null,
      "metadata": {
        "id": "V3yDOIOHL_ap"
      },
      "outputs": [],
      "source": [
        "#removing the unneccesary columns\n",
        "#as per correlation we find FLAG_MOBIL is not correlated to any column\n",
        "try:\n",
        "  df_all.drop(\"FLAG_MOBIL\",axis=1,inplace = True)\n",
        "except:\n",
        "  print(\"already removed or does not exist\")"
      ]
    },
    {
      "cell_type": "code",
      "execution_count": null,
      "metadata": {
        "id": "jNwVLgasNL95"
      },
      "outputs": [],
      "source": [
        "df_all"
      ]
    },
    {
      "cell_type": "markdown",
      "metadata": {
        "id": "-oGfgXifPloJ"
      },
      "source": [
        "#FEATURE ENGINEERING"
      ]
    },
    {
      "cell_type": "code",
      "execution_count": null,
      "metadata": {
        "id": "Y_3MptlZP1lg"
      },
      "outputs": [],
      "source": [
        "#steps\n",
        "#creating temporal variables\n",
        "#categorical variables : remove rare labels\n",
        "#standardise the value of variables to the same range"
      ]
    },
    {
      "cell_type": "code",
      "execution_count": null,
      "metadata": {
        "id": "M3MHTihMyWqs"
      },
      "outputs": [],
      "source": [
        "#creating temporal variables\n",
        "df_all[\"CODE_GENDER\"].value_counts()"
      ]
    },
    {
      "cell_type": "code",
      "execution_count": null,
      "metadata": {
        "id": "22uDb3Z3zczs"
      },
      "outputs": [],
      "source": [
        "dumgendf =pd.get_dummies(df_all[\"CODE_GENDER\"])"
      ]
    },
    {
      "cell_type": "code",
      "execution_count": null,
      "metadata": {
        "id": "qtuLHBruF_Sl"
      },
      "outputs": [],
      "source": [
        "#male = dumgendf[\"M\"]\n",
        "female = dumgendf[\"F\"]\n",
        "male = dumgendf.loc[:,\"M\":\"M\"]\n",
        "display(male.value_counts()) #male value is 1 and female value is 0\n",
        "male.columns = [\"MALE_GENDER\"]\n",
        "male.columns"
      ]
    },
    {
      "cell_type": "code",
      "execution_count": null,
      "metadata": {
        "id": "iv6Z81ciHCSj"
      },
      "outputs": [],
      "source": [
        "car = pd.get_dummies(df_all[\"FLAG_OWN_CAR\"],drop_first = True)\n",
        "display(car.value_counts())\n",
        "car.columns = [\"OWN_CAR\"]\n",
        "car.columns"
      ]
    },
    {
      "cell_type": "code",
      "execution_count": null,
      "metadata": {
        "id": "9iI43JmjIFoK"
      },
      "outputs": [],
      "source": [
        "OWN_LAND = pd.get_dummies(df_all[\"FLAG_OWN_REALTY\"],drop_first = True)\n",
        "display(OWN_LAND.value_counts())\n",
        "OWN_LAND.columns = [\"OWN_LAND\"]\n",
        "OWN_LAND.columns"
      ]
    },
    {
      "cell_type": "code",
      "execution_count": null,
      "metadata": {
        "id": "1pzYswHdJa-V"
      },
      "outputs": [],
      "source": [
        "\"\"\"listofdum = [male, car, OWN_LAND]\n",
        "try:\n",
        "  for column in listofdum:\n",
        "    df_all.insert(2,f\"{column.columns[0]}\",column)\n",
        "    display(df_all)\n",
        "except:\n",
        "  display(df_all)\"\"\""
      ]
    },
    {
      "cell_type": "code",
      "execution_count": null,
      "metadata": {
        "id": "QpJEKYSAOquw"
      },
      "outputs": [],
      "source": [
        "df_all =pd.concat([df_all,male,car,OWN_LAND],axis =1)"
      ]
    },
    {
      "cell_type": "code",
      "execution_count": null,
      "metadata": {
        "id": "3RUZ9fvvJt5l"
      },
      "outputs": [],
      "source": [
        "df_all"
      ]
    },
    {
      "cell_type": "code",
      "execution_count": null,
      "metadata": {
        "id": "JK03W4ssJYMm"
      },
      "outputs": [],
      "source": [
        "#categorical variables : remove rare labels\n",
        "# try:\n",
        "df_all.drop(\"CODE_GENDER\",axis=1, inplace = True)\n",
        "df_all.drop(\"FLAG_OWN_CAR\", axis = 1, inplace = True)\n",
        "df_all.drop(\"FLAG_OWN_REALTY\", axis =1, inplace = True)\n",
        "#   print(\"function applied for first time\")\n",
        "# except:\n",
        "#   print(\"function already applied\")"
      ]
    },
    {
      "cell_type": "code",
      "execution_count": null,
      "metadata": {
        "id": "VKbofkT5KhcH"
      },
      "outputs": [],
      "source": [
        "df_all"
      ]
    },
    {
      "cell_type": "code",
      "execution_count": null,
      "metadata": {
        "id": "Ol21jw2qT6nS"
      },
      "outputs": [],
      "source": [
        "def education(x):\n",
        "  if x == \"Secondary / secondary special\":\n",
        "    x=x.split(\" / \")[0]\n",
        "  return x"
      ]
    },
    {
      "cell_type": "code",
      "execution_count": null,
      "metadata": {
        "id": "NtGDFyhrUlhy"
      },
      "outputs": [],
      "source": [
        "df_all['NAME_EDUCATION_TYPE'] = df_all['NAME_EDUCATION_TYPE'].apply(education)\n",
        "df_all['NAME_EDUCATION_TYPE'].value_counts()"
      ]
    },
    {
      "cell_type": "code",
      "execution_count": null,
      "metadata": {
        "id": "wjLVbn53VSfW"
      },
      "outputs": [],
      "source": [
        "def marriage(x):\n",
        "  if x == \"Single / not married\":\n",
        "    x = x.split(\" / \")[0]\n",
        "  return x"
      ]
    },
    {
      "cell_type": "code",
      "execution_count": null,
      "metadata": {
        "id": "I7Lu-rsMWFEF"
      },
      "outputs": [],
      "source": [
        "df_all[\"NAME_FAMILY_STATUS\"] = df_all[\"NAME_FAMILY_STATUS\"].apply(marriage)\n",
        "df_all[\"NAME_FAMILY_STATUS\"].value_counts()"
      ]
    },
    {
      "cell_type": "code",
      "execution_count": null,
      "metadata": {
        "id": "--AezH7WWyws"
      },
      "outputs": [],
      "source": [
        "def house(x):\n",
        "  if x == \"House / apartment\":\n",
        "    x = x.split(\" / \")[0]\n",
        "  return x"
      ]
    },
    {
      "cell_type": "code",
      "execution_count": null,
      "metadata": {
        "id": "SopN0kGTWhAG"
      },
      "outputs": [],
      "source": [
        "df_all[\"NAME_HOUSING_TYPE\"] = df_all[\"NAME_HOUSING_TYPE\"].apply(house)\n",
        "df_all[\"NAME_HOUSING_TYPE\"].value_counts()"
      ]
    },
    {
      "cell_type": "code",
      "execution_count": null,
      "metadata": {
        "id": "I-kzRrRaV91G"
      },
      "outputs": [],
      "source": [
        "df_all.head(5)"
      ]
    },
    {
      "cell_type": "code",
      "execution_count": null,
      "metadata": {
        "id": "oCGrxwmQiga3"
      },
      "outputs": [],
      "source": [
        "#converting DAYS_BIRTH and DAYS_EMPLOYED into normal date\n",
        "def date_to_time_fun(totaldays):\n",
        "  dttfun = (datetime.date.today()+timedelta(totaldays)).strftime(\"%d-%m-%Y\")\n",
        "  return dttfun\n",
        "print(date_to_time_fun(-2333))"
      ]
    },
    {
      "cell_type": "code",
      "execution_count": null,
      "metadata": {
        "id": "4uffGsR2m790"
      },
      "outputs": [],
      "source": [
        "# try:\n",
        "df_all['DAYS_BIRTH'] = df_all[\"DAYS_BIRTH\"].apply(date_to_time_fun)\n",
        "df_all[\"DAYS_EMPLOYED\"]= df_all[\"DAYS_EMPLOYED\"].apply(date_to_time_fun)\n",
        "# print(\"function applied for first time\")\n",
        "# except:\n",
        "#   print(\"function already applied\")\n"
      ]
    },
    {
      "cell_type": "code",
      "execution_count": null,
      "metadata": {
        "id": "GU-vK8QHnxdC"
      },
      "outputs": [],
      "source": [
        "display(df_all[[\"DAYS_EMPLOYED\",\"DAYS_BIRTH\"]])\n",
        "df_all[\"DAYS_EMPLOYED\"].value_counts()"
      ]
    },
    {
      "cell_type": "code",
      "execution_count": null,
      "metadata": {
        "id": "Nbx6bjoYoZcl"
      },
      "outputs": [],
      "source": [
        "#getting number of years\n",
        "def noofyearfun(date_of_time):\n",
        "  today = datetime.date.today().year\n",
        "  yod = datetime.datetime.strptime(date_of_time,\"%d-%m-%Y\").year\n",
        "  noyears = today - yod\n",
        "  return noyears\n",
        "print(noofyearfun(\"07-08-2016\"))\n"
      ]
    },
    {
      "cell_type": "code",
      "execution_count": null,
      "metadata": {
        "id": "LgXhMH78s9J7"
      },
      "outputs": [],
      "source": [
        "# try:\n",
        "df_all[\"DAYS_BIRTH\"] = df_all[\"DAYS_BIRTH\"].apply(noofyearfun)\n",
        "# print(\"function applied first time\")\n",
        "# except:\n",
        "#   print(\"function already applied\")"
      ]
    },
    {
      "cell_type": "code",
      "execution_count": null,
      "metadata": {
        "id": "6J3oToS5thae"
      },
      "outputs": [],
      "source": [
        "# try:\n",
        "df_all[\"DAYS_EMPLOYED\"] = df_all['DAYS_EMPLOYED'].apply(noofyearfun)\n",
        "# print(\"function applied for first time\")\n",
        "# except:\n",
        "#   print(\"function already applied\")"
      ]
    },
    {
      "cell_type": "code",
      "execution_count": null,
      "metadata": {
        "id": "yOSW9SmMuDU7"
      },
      "outputs": [],
      "source": [
        "df_all = df_all.rename(columns = {\"DAYS_BIRTH\": \"AGE\", \"DAYS_EMPLOYED\" : \"NO_OF_YEARS_WORKED\"})"
      ]
    },
    {
      "cell_type": "code",
      "execution_count": null,
      "metadata": {
        "id": "57I4QzAytNlb"
      },
      "outputs": [],
      "source": [
        "with pd.option_context('display.max_columns', None,\n",
        "                       'display.precision', 3,\n",
        "                       ): # u can also insert 'display.max_rows', None\n",
        "  display(df_all)"
      ]
    },
    {
      "cell_type": "code",
      "execution_count": null,
      "metadata": {
        "id": "OItYScmG8-HE"
      },
      "outputs": [],
      "source": [
        "df_all[\"STATUS\"].value_counts()"
      ]
    },
    {
      "cell_type": "code",
      "execution_count": null,
      "metadata": {
        "id": "gPYYuCv3DZWB"
      },
      "outputs": [],
      "source": [
        "# MONTHS_BALANCE\n",
        "# record month: The month of the extracted data is the starting point, backwards, 0 is the current month, -1 is the previous month, and so on\n",
        "\n",
        "# STATUS\n",
        "# 1-29 days past due 1: 30-59 days past due 2: 60-89 days overdue 3: 90-119 days overdue 4: 120-149 days overdue 5:\n",
        "df_all.loc[df_all['STATUS']=='C','STATUS']=6\n",
        "df_all.loc[df_all['STATUS']=='X','STATUS']=7"
      ]
    },
    {
      "cell_type": "code",
      "execution_count": null,
      "metadata": {
        "id": "6Nh-KGkjD5vH"
      },
      "outputs": [],
      "source": [
        "df_all[\"STATUS\"] = df_all[\"STATUS\"].astype(float)"
      ]
    },
    {
      "cell_type": "code",
      "execution_count": null,
      "metadata": {
        "id": "emAbjQMhGo3m"
      },
      "outputs": [],
      "source": [
        "def solve(state):\n",
        "  credit_score = \"\"\n",
        "  if int(state) in (2,3,4,5):\n",
        "    credit_score = 1  #risky\n",
        "  else:\n",
        "    credit_score = 0 #not risky\n",
        "  return credit_score"
      ]
    },
    {
      "cell_type": "code",
      "execution_count": null,
      "metadata": {
        "id": "1Pu1WYA7HBqk"
      },
      "outputs": [],
      "source": [
        "df_all[\"Credit\"] = df_all[\"STATUS\"].apply(solve)"
      ]
    },
    {
      "cell_type": "code",
      "execution_count": null,
      "metadata": {
        "id": "oZev9FgvbTqE"
      },
      "outputs": [],
      "source": [
        "df_all[\"Credit\"].value_counts()"
      ]
    },
    {
      "cell_type": "code",
      "execution_count": null,
      "metadata": {
        "id": "kWneO9e6HWhp"
      },
      "outputs": [],
      "source": [
        "# try:\n",
        "#   df_all.drop(\"STATUS\",axis = 1,inplace = True)\n",
        "#   print(\"function performed for first time\")\n",
        "# except:\n",
        "#   print(\"function already performed\")"
      ]
    },
    {
      "cell_type": "code",
      "execution_count": null,
      "metadata": {
        "id": "ltCpnDkcd1iZ"
      },
      "outputs": [],
      "source": [
        "df_all"
      ]
    },
    {
      "cell_type": "code",
      "execution_count": null,
      "metadata": {
        "id": "e9oq-EurkUEI"
      },
      "outputs": [],
      "source": []
    },
    {
      "cell_type": "markdown",
      "metadata": {
        "id": "M0xCFNFWd3Ux"
      },
      "source": [
        "# DATA VISUALISATION"
      ]
    },
    {
      "cell_type": "code",
      "execution_count": null,
      "metadata": {
        "id": "EMUEm_QSd9su"
      },
      "outputs": [],
      "source": [
        "df_all.corr()"
      ]
    },
    {
      "cell_type": "code",
      "execution_count": null,
      "metadata": {
        "id": "Kc9tJ00FAh74"
      },
      "outputs": [],
      "source": [
        "plt.figure(figsize = (30,8))\n",
        "sns.heatmap(df_all.corr(),annot = True, cmap = \"RdBu\") #cmap = \"RdYlGn\")"
      ]
    },
    {
      "cell_type": "code",
      "execution_count": null,
      "metadata": {
        "id": "wUJh9nNcTurY"
      },
      "outputs": [],
      "source": [
        "plt.figure(figsize = (20,10))\n",
        "vc_pie  = df_all[\"NAME_FAMILY_STATUS\"].value_counts()  #valuecounts for piechart    `1`\n",
        "num = vc_pie.keys()\n",
        "plt.pie(vc_pie,labels =vc_pie.keys(),explode = np.linspace(0,(1/len(num)),len(num)) )\n",
        "\n",
        "\"\"\"From the above pie chart ,we conclude that majority of people are married so there expenses more than others.so, we can approve their credit card bcz they can use credit card regularly and in efficient manner for their expenses.\"\"\""
      ]
    },
    {
      "cell_type": "code",
      "execution_count": null,
      "metadata": {
        "id": "vzuv-OcBaoN1"
      },
      "outputs": [],
      "source": [
        "plt.figure(figsize = (20,10))\n",
        "num =df_all[\"NAME_HOUSING_TYPE\"].unique()\n",
        "vc_pie  = df_all[\"NAME_HOUSING_TYPE\"].value_counts()\n",
        "plt.pie(vc_pie,labels =vc_pie.keys(),explode = np.linspace(0,(1/len(num)),len(num)) )\n",
        "\n",
        "\"\"\"From this above pie chart , we conclude that most of the people lives in their own house or apartment.So There is a high chance that they are able to pay their bills on time ,so we can approve their credit card\"\"\""
      ]
    },
    {
      "cell_type": "code",
      "source": [
        "plt.figure(figsize = (15,10))\n",
        "itforpie = df_all[df_all[\"Credit\"] == 1][\"NAME_INCOME_TYPE\"].value_counts() #incometype for piechart\n",
        "plt.pie(itforpie,labels = itforpie.keys(),explode = np.linspace(0,1/len(itforpie.keys()),len(itforpie.keys())))\n",
        "\"\"\"here we can see person with income type 'student' have not skipped the loan \"\"\""
      ],
      "metadata": {
        "id": "POUZKq2PhFEJ"
      },
      "execution_count": null,
      "outputs": []
    },
    {
      "cell_type": "code",
      "source": [
        "plt.figure(figsize = (15,10))\n",
        "fsforpie = df_all[df_all[\"Credit\"] == 1][\"NAME_FAMILY_STATUS\"].value_counts() #familystatusforpiechart\n",
        "plt.pie(fsforpie,labels = fsforpie.keys(),explode = np.linspace(0,1/len(fsforpie.keys()),len(fsforpie.keys())))\n",
        "\"\"\"here we can see person with family status 'Married' have skipped the loan \"\"\""
      ],
      "metadata": {
        "id": "lj-yqEX6l3Ed"
      },
      "execution_count": null,
      "outputs": []
    },
    {
      "cell_type": "code",
      "execution_count": null,
      "metadata": {
        "id": "HEmJk_-WcKDb"
      },
      "outputs": [],
      "source": [
        "dfcopy = df_all.copy()\n",
        "for feature in df_all.columns:\n",
        "  if feature != \"STATUS\":\n",
        "    plt.scatter(dfcopy[feature],dfcopy[\"STATUS\"])\n",
        "    plt.xlabel(feature)\n",
        "    plt.ylabel(\"STATUS\")\n",
        "    plt.show()"
      ]
    },
    {
      "cell_type": "code",
      "execution_count": null,
      "metadata": {
        "id": "H5Q2cwLbxb1g"
      },
      "outputs": [],
      "source": [
        "#requires more ram\n",
        "sns.pairplot(df_all[\"CNT_CHILDREN\tAMT_INCOME_TOTAL\tAGE\tNO_OF_YEARS_WORKED\tFLAG_WORK_PHONE\tFLAG_PHONE\tFLAG_EMAIL\tCNT_FAM_MEMBERS\tMONTHS_BALANCE\tMALE_GENDER\tOWN_CAR\tOWN_LAND\tCredit\".split()[:4]])"
      ]
    },
    {
      "cell_type": "markdown",
      "metadata": {
        "id": "mqGvFJTo9rOk"
      },
      "source": [
        "# FEATURE SCALING\n"
      ]
    },
    {
      "cell_type": "code",
      "execution_count": null,
      "metadata": {
        "id": "PN_d_6cL9rOl"
      },
      "outputs": [],
      "source": [
        "# let's make all data in one scale,for that we have to first change the categorical data to numerical data .\n",
        "df_all.head(10)"
      ]
    },
    {
      "cell_type": "code",
      "execution_count": null,
      "metadata": {
        "id": "gcG_aPuY9rOm"
      },
      "outputs": [],
      "source": [
        "# here OCCUPATION_TYPE doesnot have any relation with credit\n",
        "df_all.drop(\"OCCUPATION_TYPE\",axis = 1, inplace = True)"
      ]
    },
    {
      "cell_type": "code",
      "source": [
        "dfforbot1 = df_all.drop([\"ID\",\"FLAG_WORK_PHONE\",\"FLAG_PHONE\",\"FLAG_EMAIL\",\"MONTHS_BALANCE\",\"STATUS\"],axis = 1).copy()"
      ],
      "metadata": {
        "id": "mXbaxZHc9rOq"
      },
      "execution_count": null,
      "outputs": []
    },
    {
      "cell_type": "code",
      "source": [
        "dfforbot1.NAME_EDUCATION_TYPE.value_counts()"
      ],
      "metadata": {
        "id": "n0fmud7tE75K"
      },
      "execution_count": null,
      "outputs": []
    },
    {
      "cell_type": "code",
      "execution_count": null,
      "metadata": {
        "id": "dQ0DdLCj9rOq"
      },
      "outputs": [],
      "source": [
        "#changing NAME_INCOME_TYPE\tNAME_EDUCATION_TYPE\tNAME_FAMILY_STATUS\tNAME_HOUSING_TYPE columns into numerical data\n",
        "def changetonum(lis):\n",
        "  lempty = [ ]\n",
        "  for i in range(1,len(lis)+1):\n",
        "    lempty.append((lis[i-1],i))\n",
        "  return dict(lempty)\n",
        "a,b,c,d = \"NAME_INCOME_TYPE\tNAME_EDUCATION_TYPE\tNAME_FAMILY_STATUS\tNAME_HOUSING_TYPE\".split()\n",
        "lrp1 = changetonum(list(df_all[a].value_counts().keys()))\n",
        "lrp2 = changetonum(list(df_all[b].value_counts().keys()))\n",
        "lrp3 = changetonum(list(df_all[c].value_counts().keys()))\n",
        "lrp4 = changetonum(list(df_all[d].value_counts().keys()))"
      ]
    },
    {
      "cell_type": "code",
      "source": [
        "(lrp2)"
      ],
      "metadata": {
        "id": "qV92VL_fqaei"
      },
      "execution_count": null,
      "outputs": []
    },
    {
      "cell_type": "code",
      "execution_count": null,
      "metadata": {
        "id": "ZZeK2A649rOr"
      },
      "outputs": [],
      "source": [
        "df_all.replace({a:lrp1},inplace=True)\n",
        "df_all.replace({b:lrp2},inplace = True)\n",
        "df_all.replace({c:lrp3},inplace = True)\n",
        "df_all.replace({d:lrp4},inplace = True)\n",
        "df_all"
      ]
    },
    {
      "cell_type": "code",
      "execution_count": null,
      "metadata": {
        "id": "BCsTu6Fe9rOr"
      },
      "outputs": [],
      "source": [
        "#creating a copy for not modifying the data in original data frame\n",
        "df_all1 = df_all.copy()\n",
        "df_all.head(1)"
      ]
    },
    {
      "cell_type": "code",
      "source": [
        "df_all1 = df_all1.drop([\"ID\",\"FLAG_WORK_PHONE\",\"FLAG_PHONE\",\"FLAG_EMAIL\",\"MONTHS_BALANCE\",\"STATUS\"],axis =1)\n",
        "df_all1"
      ],
      "metadata": {
        "id": "FTeT0lMUrCem"
      },
      "execution_count": null,
      "outputs": []
    },
    {
      "cell_type": "code",
      "source": [
        "df_all1.shape"
      ],
      "metadata": {
        "id": "2muFtJfRul-x"
      },
      "execution_count": null,
      "outputs": []
    },
    {
      "cell_type": "code",
      "execution_count": null,
      "metadata": {
        "id": "5He7oqbB9rOr"
      },
      "outputs": [],
      "source": [
        "df_all1.drop([\"MALE_GENDER\"],axis = 1 , inplace =True)\n",
        "df_all1 = df_all1.drop_duplicates()\n",
        "# df_all1[df_all1[\"NO_OF_YEARS_WORKED\"]==-100]=-100\n",
        "df_all1.info()"
      ]
    },
    {
      "cell_type": "code",
      "execution_count": null,
      "metadata": {
        "id": "7P8rzD9h9rOs"
      },
      "outputs": [],
      "source": [
        "\"\"\"We can see that our all data in float or in int data types.Now we ready to apply FeatureScaling on our data.\"\"\""
      ]
    },
    {
      "cell_type": "code",
      "execution_count": null,
      "metadata": {
        "id": "S5rQcfVh9rOs"
      },
      "outputs": [],
      "source": [
        "x = df_all1.drop(\"Credit\",axis =1) #independent feature\n",
        "y = df_all1[\"Credit\"]     #dependent feature or predicting value"
      ]
    },
    {
      "cell_type": "code",
      "execution_count": null,
      "metadata": {
        "id": "aHPtAgQ59rOs"
      },
      "outputs": [],
      "source": [
        "feature_scale = [feature for feature in df_all1.columns if feature != \"Credit\"]\n",
        "#importing libraries\n",
        "from sklearn.preprocessing import MinMaxScaler\n",
        "scaler =MinMaxScaler()\n",
        "scaler.fit(x)"
      ]
    },
    {
      "cell_type": "code",
      "execution_count": null,
      "metadata": {
        "id": "sP5YXy2i9rOt"
      },
      "outputs": [],
      "source": [
        "(scaler.transform(x))"
      ]
    },
    {
      "cell_type": "code",
      "execution_count": null,
      "metadata": {
        "id": "OJV6mGJW9rOt"
      },
      "outputs": [],
      "source": [
        "df_all1 = pd.concat([y.reset_index(drop = True),pd.DataFrame(scaler.transform(x),columns=feature_scale)],axis =1)\n",
        "df_all1.head(5)"
      ]
    },
    {
      "cell_type": "code",
      "execution_count": null,
      "metadata": {
        "id": "WAc5KReD9rOt"
      },
      "outputs": [],
      "source": [
        "df_all1.Credit.value_counts()"
      ]
    },
    {
      "cell_type": "code",
      "execution_count": null,
      "metadata": {
        "id": "bqI4xfC59rOu"
      },
      "outputs": [],
      "source": [
        "\"\"\" from the above output,we conclude that data is imbalanced.so, we have to do either under sampling or over sampling.we are going to do over sampling bcz in under sampling .we will lost our almost data.\"\"\""
      ]
    },
    {
      "cell_type": "markdown",
      "metadata": {
        "id": "NJxvVx2V95Iq"
      },
      "source": [
        "# DEALING WITH UNBALANCED DATA SET"
      ]
    },
    {
      "cell_type": "code",
      "execution_count": null,
      "metadata": {
        "id": "8chpX2Sc-Gw9"
      },
      "outputs": [],
      "source": [
        "from imblearn.combine import SMOTETomek"
      ]
    },
    {
      "cell_type": "code",
      "execution_count": null,
      "metadata": {
        "id": "kCUF1yjUS5KB"
      },
      "outputs": [],
      "source": [
        "smtk = SMOTETomek(random_state=12)"
      ]
    },
    {
      "cell_type": "code",
      "execution_count": null,
      "metadata": {
        "id": "eQ4wlHNyTAPV"
      },
      "outputs": [],
      "source": [
        "df_all1.shape"
      ]
    },
    {
      "cell_type": "code",
      "execution_count": null,
      "metadata": {
        "id": "DtyZO1_CTFsm"
      },
      "outputs": [],
      "source": [
        "y = y.astype(int)\n",
        "x_resamp , y_resamp = smtk.fit_resample(x,y)"
      ]
    },
    {
      "cell_type": "code",
      "execution_count": null,
      "metadata": {
        "id": "LRwxjuMiVPrE"
      },
      "outputs": [],
      "source": [
        "x_resamp.shape,y_resamp.shape"
      ]
    },
    {
      "cell_type": "code",
      "execution_count": null,
      "metadata": {
        "id": "NDAz4jnkWFA-"
      },
      "outputs": [],
      "source": [
        "print(f\"original data set value distribution : {list(y.value_counts())}\")\n",
        "print(f\"resampled data set value distribution : {list(y_resamp.value_counts())}\")"
      ]
    },
    {
      "cell_type": "code",
      "source": [
        "#x_resamp.groupby([\"MONTHS_BALANCE\",\"ID\"]).min().nsmallest(10,columns =\"CNT_CHILDREN\tAMT_INCOME_TOTAL\tNAME_INCOME_TYPE\tNAME_EDUCATION_TYPE\tNAME_FAMILY_STATUS\tNAME_HOUSING_TYPE\tAGE\tNO_OF_YEARS_WORKED\tFLAG_WORK_PHONE\tFLAG_PHONE\tFLAG_EMAIL\tCNT_FAM_MEMBERS\tSTATUS\".split())"
      ],
      "metadata": {
        "id": "pwPCaPVps_M3"
      },
      "execution_count": null,
      "outputs": []
    },
    {
      "cell_type": "code",
      "execution_count": null,
      "metadata": {
        "id": "6viGSaS6bPwS"
      },
      "outputs": [],
      "source": [
        "from sklearn.preprocessing import MinMaxScaler"
      ]
    },
    {
      "cell_type": "code",
      "source": [
        "x_resamp1 = x_resamp\n",
        "feature_scale1 = feature_scale"
      ],
      "metadata": {
        "id": "oqRo_ztz7MHV"
      },
      "execution_count": null,
      "outputs": []
    },
    {
      "cell_type": "code",
      "execution_count": null,
      "metadata": {
        "id": "pXHkv84-gNiB"
      },
      "outputs": [],
      "source": [
        "mms = MinMaxScaler()\n",
        "mms.fit(x_resamp1)"
      ]
    },
    {
      "cell_type": "code",
      "execution_count": null,
      "metadata": {
        "id": "nrcmlHbGgUmu"
      },
      "outputs": [],
      "source": [
        "x_scaled_resamp = mms.transform(x_resamp1)"
      ]
    },
    {
      "cell_type": "code",
      "execution_count": null,
      "metadata": {
        "id": "dxAraLy6g4DB"
      },
      "outputs": [],
      "source": [
        "df_all1scaled = pd.concat([pd.DataFrame(x_scaled_resamp,columns = feature_scale1),y_resamp],axis =1)"
      ]
    },
    {
      "cell_type": "code",
      "source": [
        "DF1111 = df_all1scaled[df_all1scaled[\"Credit\"]==1 ]\n",
        "DF1111"
      ],
      "metadata": {
        "id": "rpgJXbvbeoGk"
      },
      "execution_count": null,
      "outputs": []
    },
    {
      "cell_type": "markdown",
      "metadata": {
        "id": "A7edGMvk-I7m"
      },
      "source": [
        "# MODEL DEPLOYMENT"
      ]
    },
    {
      "cell_type": "code",
      "execution_count": null,
      "metadata": {
        "id": "ATdns_vS-PdX"
      },
      "outputs": [],
      "source": [
        "from sklearn.model_selection import train_test_split"
      ]
    },
    {
      "cell_type": "code",
      "source": [
        "#pd.concat([x_resamp,y_resamp],axis = 1)[pd.concat([x_resamp,y_resamp],axis = 1)[\"Credit\"] == 1]"
      ],
      "metadata": {
        "id": "1Y7RMGmr7_KU"
      },
      "execution_count": null,
      "outputs": []
    },
    {
      "cell_type": "code",
      "execution_count": null,
      "metadata": {
        "id": "8k_xLRXfXfqL"
      },
      "outputs": [],
      "source": [
        "x_train,x_test,y_train,y_test = train_test_split(x_scaled_resamp,y_resamp,train_size = 0.8,random_state = 567)"
      ]
    },
    {
      "cell_type": "code",
      "execution_count": null,
      "metadata": {
        "id": "FAHn4b82X4eo"
      },
      "outputs": [],
      "source": [
        "x_train.shape,y_train.shape"
      ]
    },
    {
      "cell_type": "code",
      "execution_count": null,
      "metadata": {
        "id": "nCU9tCypYMiQ"
      },
      "outputs": [],
      "source": [
        "#importing libraries\n",
        "from sklearn.linear_model import LinearRegression\n",
        "from sklearn.ensemble import RandomForestClassifier\n",
        "from sklearn.tree import DecisionTreeClassifier\n",
        "from sklearn.naive_bayes import GaussianNB\n",
        "from sklearn.neighbors import KNeighborsClassifier\n",
        "from sklearn.metrics import ConfusionMatrixDisplay,accuracy_score"
      ]
    },
    {
      "cell_type": "code",
      "source": [
        "#importing libraries\n",
        "from sklearn.linear_model import LinearRegression\n",
        "from sklearn.ensemble import RandomForestRegressor\n",
        "from sklearn.tree import DecisionTreeClassifier\n",
        "from sklearn.naive_bayes import GaussianNB\n",
        "from sklearn.neighbors import KNeighborsClassifier\n",
        "from sklearn.metrics import ConfusionMatrixDisplay,accuracy_score"
      ],
      "metadata": {
        "id": "sZ43jFpwRGpT"
      },
      "execution_count": null,
      "outputs": []
    },
    {
      "cell_type": "code",
      "execution_count": null,
      "metadata": {
        "id": "VMxvlB4aYOe_"
      },
      "outputs": [],
      "source": [
        "modellist = [LinearRegression,DecisionTreeClassifier,GaussianNB,KNeighborsClassifier,RandomForestClassifier]"
      ]
    },
    {
      "cell_type": "code",
      "execution_count": null,
      "metadata": {
        "id": "17tqLQebaFaY"
      },
      "outputs": [],
      "source": [
        "accuracylist = []\n",
        "i=0\n",
        "for model in modellist:\n",
        "  model = model()\n",
        "  model.fit(x_train,y_train)\n",
        "  y_pred =model.predict(x_test)\n",
        "  print(\"one iteration completed\")\n",
        "  ConfusionMatrixDisplay.from_predictions(y_test ,y_pred.astype(int))\n",
        "  acc = accuracy_score(y_test,y_pred.astype(int))\n",
        "  accuracylist.append(acc)\n",
        "  i+=1"
      ]
    },
    {
      "cell_type": "code",
      "execution_count": null,
      "metadata": {
        "id": "PlcTXM1Zmwtc"
      },
      "outputs": [],
      "source": [
        "\"\"\"accuracylist = []\n",
        "def model_test(x_train,y_train,model):\n",
        "  model = model()\n",
        "  model.fit(x_train,y_train)\n",
        "  y_pred =model.predict(x_test)\n",
        "  ConfusionMatrixDisplay.from_predictions(y_test ,y_pred)\n",
        "  acc = accuracy_score(y_test,y_pred)\n",
        "  accuracylist.append(acc)\n",
        "  return (y_pred)\n",
        "\n",
        "ypredl = [model_test(x_train,y_train,i) for i in modellist ]\n",
        "ypredl\"\"\""
      ]
    },
    {
      "cell_type": "code",
      "execution_count": null,
      "metadata": {
        "id": "vfVJU2pCbPiS"
      },
      "outputs": [],
      "source": [
        "display(modellist)\n",
        "accuracylist"
      ]
    },
    {
      "cell_type": "code",
      "source": [
        "maxac = max(accuracylist)\n",
        "acindex = accuracylist.index(maxac)\n",
        "modelforpred = modellist[acindex]\n",
        "modelforpred"
      ],
      "metadata": {
        "id": "BGYBoeRqVqb3"
      },
      "execution_count": null,
      "outputs": []
    },
    {
      "cell_type": "markdown",
      "source": [
        "# CHATBOT NORMAL"
      ],
      "metadata": {
        "id": "C3XNzNW_2Aa8"
      }
    },
    {
      "cell_type": "code",
      "source": [
        "#steps\n",
        "#separating multifeature data and numerical data\n",
        "#getting input for multifeature data\n",
        "#getting numerical data\n",
        "#arranging the input data as per the database"
      ],
      "metadata": {
        "id": "yGQowu4GL4K4"
      },
      "execution_count": null,
      "outputs": []
    },
    {
      "cell_type": "code",
      "source": [
        "dataforbot = dfforbot1.drop([\"Credit\",\"MALE_GENDER\"],axis = 1)\n",
        "dataforbot.head(5)"
      ],
      "metadata": {
        "id": "4f14cQtrKPF1"
      },
      "execution_count": null,
      "outputs": []
    },
    {
      "cell_type": "code",
      "source": [
        "#inputlist = \"ID\tCODE_GENDER\tFLAG_OWN_CAR\tFLAG_OWN_REALTY\tCNT_CHILDREN\tAMT_INCOME_TOTAL\tNAME_INCOME_TYPE\tNAME_EDUCATION_TYPE\tNAME_FAMILY_STATUS\tNAME_HOUSING_TYPE\tDAYS_BIRTH\tDAYS_EMPLOYED\tFLAG_WORK_PHONE\tFLAG_PHONE\tFLAG_EMAIL\tOCCUPATION_TYPE\tCNT_FAM_MEMBERS\tMONTHS_BALANCE\".split()\n",
        "inputlist  = list(dataforbot.columns)\n",
        "inputlist"
      ],
      "metadata": {
        "id": "Jpf_0rWd2Hkq"
      },
      "execution_count": null,
      "outputs": []
    },
    {
      "cell_type": "code",
      "source": [
        "dataforbot.describe(include = \"all\")"
      ],
      "metadata": {
        "id": "7wxljRX8HVBR"
      },
      "execution_count": null,
      "outputs": []
    },
    {
      "cell_type": "code",
      "source": [
        "numdatalist = dataforbot.describe().loc[\"std\",:][dataforbot.describe().loc[\"std\",:] >0.5]\n",
        "numdatalist = numdatalist.keys() #it takes only if the std is greater than 0.5\n",
        "numdatalist"
      ],
      "metadata": {
        "id": "2VV4W-8qhrrU"
      },
      "execution_count": null,
      "outputs": []
    },
    {
      "cell_type": "code",
      "source": [
        "#numdatalist = [\"ID\",\"AMT_INCOME_TOTAL\",\"CNT_CHILDREN\",\"DAYS_BIRTH\",\"AGE\",\"DAYS_EMPLOYED\", \"NO_OF_YEARS_WORKED\",\"CNT_FAM_MEMBERS\",\"MONTHS_BALANCE\"]"
      ],
      "metadata": {
        "id": "6ihn1ubw4DTd"
      },
      "execution_count": null,
      "outputs": []
    },
    {
      "cell_type": "code",
      "source": [
        "\"\"\"inpdetlist = [[list(dataforbot[i].value_counts().keys()) , list(dataforbot[i].value_counts())] for i in inputlist if i not in numdatalist]\n",
        "inpdetlist\"\"\""
      ],
      "metadata": {
        "id": "CsEvDN5x2X2q"
      },
      "execution_count": null,
      "outputs": []
    },
    {
      "cell_type": "code",
      "source": [
        "#working for non num data\n",
        "nonnumlist = [column for column in inputlist if column not in numdatalist]\n",
        "# indetlist1 = [list(enumerate(dataforbot[column].unique(),1)) for column in nonnumlist]\n",
        "indetlist1 = [list(enumerate(dataforbot[column].value_counts().keys(),1)) for column in nonnumlist]\n",
        "display(nonnumlist)\n",
        "indetlist1"
      ],
      "metadata": {
        "id": "pyJNWyN58NPp"
      },
      "execution_count": null,
      "outputs": []
    },
    {
      "cell_type": "code",
      "source": [
        "#non mumerical data\n",
        "def funtionnonnuminp(ind,col):\n",
        "  i = 1\n",
        "  while i !=0:\n",
        "    try :\n",
        "      print(f\"Enter your {ind}  :  NOTE: IN FLAG IF 0 AND 1 ARE GIVEN, 0 MEANS NO AND 1 MEANS YES\")\n",
        "      input1 = int(input(f\"SELECT THE NUMBER FROM THE LIST{col}\"))\n",
        "      if input1>len(col) or input1<1:\n",
        "        raise ValueError(\"enter correct number\")\n",
        "      inpnonnumdata.append(input1)\n",
        "      i=0\n",
        "    except ValueError:\n",
        "      print(\"enter correct number from list\")"
      ],
      "metadata": {
        "id": "m6WgetHg0Ukt"
      },
      "execution_count": null,
      "outputs": []
    },
    {
      "cell_type": "code",
      "source": [
        "num = len(nonnumlist)\n",
        "inpnonnumdata = []\n",
        "for j in range(num):\n",
        "  nameofcol = nonnumlist[j]   #0\n",
        "  valcountsofcol = indetlist1[j]#0\n",
        "  funtionnonnuminp(nameofcol,valcountsofcol)\n",
        "\n",
        "inpnonnumdata"
      ],
      "metadata": {
        "id": "T7uzyOk_AVwh"
      },
      "execution_count": null,
      "outputs": []
    },
    {
      "cell_type": "code",
      "source": [
        "datainput1 = []\n",
        "for i in range(len(inpnonnumdata)):\n",
        "  datainput1.append((nonnumlist[i],indetlist1[i][inpnonnumdata[i]-1][1]))\n",
        "print(\"entered details are : \")\n",
        "datainput1"
      ],
      "metadata": {
        "id": "gG9ebQ6NFaLn"
      },
      "execution_count": null,
      "outputs": []
    },
    {
      "cell_type": "code",
      "source": [
        "#dealing with numerical inputs\n",
        "#for arranging in order of the columns in data given\n",
        "a = dataforbot\n",
        "numcol = [col for col in a.columns if col in numdatalist]\n",
        "numcol"
      ],
      "metadata": {
        "id": "xoG2e5CVOPQ7"
      },
      "execution_count": null,
      "outputs": []
    },
    {
      "cell_type": "code",
      "source": [
        "#getting the border values of the data for bot columns\n",
        "minmaxlist = []\n",
        "for col in numcol:\n",
        "  if dataforbot[col].max() >0:\n",
        "    minmaxlist.append(dataforbot[col].max())\n",
        "  else:\n",
        "    minmaxlist.append(dataforbot[col].min())\n",
        "minmaxlist"
      ],
      "metadata": {
        "id": "D56EjlCpQtaL"
      },
      "execution_count": null,
      "outputs": []
    },
    {
      "cell_type": "code",
      "source": [
        "#getting numerical data\n",
        "def funtionnuminp(ind,col):\n",
        "  i = 1\n",
        "  while i !=0:\n",
        "    try :\n",
        "      print(f\"Enter your {ind}  : \")\n",
        "      input1 = int(input(f\"SELECT ONLY NUMBER FROM 0 to {col} : \"))\n",
        "      if col >0:\n",
        "        if input1>col or input1<0:\n",
        "          raise ValueError(\"enter correct number\")\n",
        "      elif col <0:\n",
        "        if input1 <col or input1>0:\n",
        "          raise ValueError(\"enter correct number\")\n",
        "      inpnumdata.append(input1)\n",
        "      i=0\n",
        "    except ValueError:\n",
        "      print(\"enter correct number within range specified\")"
      ],
      "metadata": {
        "id": "-cRtt82i9i-u"
      },
      "execution_count": null,
      "outputs": []
    },
    {
      "cell_type": "code",
      "source": [
        "\n",
        "inpnumdata = []\n",
        "for j in range(len(numcol)):\n",
        "  nameofcolumn = numcol[j]\n",
        "  bordervalue = minmaxlist[j]\n",
        "  funtionnuminp(nameofcolumn, bordervalue)\n",
        "inpnumdata"
      ],
      "metadata": {
        "id": "GLY5jPZI7J_O"
      },
      "execution_count": null,
      "outputs": []
    },
    {
      "cell_type": "code",
      "source": [
        "datainput2 = list(zip(numcol,inpnumdata))\n",
        "datainput2"
      ],
      "metadata": {
        "id": "mTi0oVqVcODE"
      },
      "execution_count": null,
      "outputs": []
    },
    {
      "cell_type": "code",
      "source": [
        "#getting num variables that are initiated for the data\n",
        "inpnonnumdata+ inpnumdata"
      ],
      "metadata": {
        "id": "odl1vlINdtOL"
      },
      "execution_count": null,
      "outputs": []
    },
    {
      "cell_type": "code",
      "source": [
        "dataforinptomodel = datainput1 + datainput2\n",
        "dataforinptomodel\n"
      ],
      "metadata": {
        "id": "Vgy2pjkOVW9C"
      },
      "execution_count": null,
      "outputs": []
    },
    {
      "cell_type": "code",
      "source": [
        "display(inpnonnumdata)\n",
        "display(dfforbot1.head())\n",
        "dfforbot1[\"OWN_CAR\"].value_counts()"
      ],
      "metadata": {
        "id": "Y7TviEXefz-e"
      },
      "execution_count": null,
      "outputs": []
    },
    {
      "cell_type": "code",
      "source": [
        "xforinp = pd.DataFrame(dataforinptomodel,columns = [\"inputname\",\"inputvalue\"]).transpose()\n",
        "display(xforinp)\n",
        "inpnonnumdata"
      ],
      "metadata": {
        "id": "YLAWghQobzEF"
      },
      "execution_count": null,
      "outputs": []
    },
    {
      "cell_type": "code",
      "source": [
        "#scaling data into numbers\n",
        "xforinp1 = xforinp.copy()\n",
        "klist = list(xforinp1.loc[\"inputvalue\",:])\n",
        "xforinp2 =[]\n",
        "for i in range(len(klist)) :\n",
        "  if type(klist[i])==str or type(klist[i])==object:\n",
        "    xforinp2.append(inpnonnumdata[i]) #if its string get the option selected by the user\n",
        "  else:\n",
        "    xforinp2.append(klist[i]) #if it not of str append the same element"
      ],
      "metadata": {
        "id": "h4A_nFn1zpzq"
      },
      "execution_count": null,
      "outputs": []
    },
    {
      "cell_type": "code",
      "source": [
        "#unordered list of values valinp1   #the index for both unordered list depict the same value\n",
        "#unordered list of columns colval1\n",
        "#ordered list of columns  dfcolformodel\n",
        "#ordered list of values  dfvaluesformodel\n",
        "#display(list(zip(*dataforinptomodel)))"
      ],
      "metadata": {
        "id": "3TyM1_ka61_O"
      },
      "execution_count": null,
      "outputs": []
    },
    {
      "cell_type": "code",
      "source": [
        "##ARRANGING AS PER DATABASE\n",
        "print((xforinp2))\n",
        "colval1,valueinp1 = zip(*dataforinptomodel)# column name , value of the varibale\n",
        "print(colval1,valueinp1,sep = \"\\n\\n *\")\n",
        "dfcolformodel =[col for col in  df_all.columns if col in colval1] #getting column names as per the database\n",
        "print(dfcolformodel) #dataframe column for inputing to model\n",
        "dfvaluesformodel = [] #dataframe value for inputing to model\n",
        "for col in dfcolformodel:\n",
        "  i =colval1.index(col)  #column name\n",
        "  dfvaluesformodel.append(xforinp2[i] )\n",
        "print(dfvaluesformodel)"
      ],
      "metadata": {
        "id": "GafcZiHxztde"
      },
      "execution_count": null,
      "outputs": []
    },
    {
      "cell_type": "code",
      "source": [
        "#APPENDING VALUES TO THE INPUT DATABASE\n",
        "xforinp1.loc[\"inputname\",:] = dfcolformodel #test input column name for the model\n",
        "xforinp1.loc['inputvalue',:] = dfvaluesformodel#test user input value for model\n",
        "display(xforinp1)\n",
        "xforinp3 =pd.concat([(xforinp1.loc[\"inputvalue\",:]),xforinp1.loc[\"inputvalue\",:]],axis =1,ignore_index = True) #getting the values user input data and doubling it by concatinating  columns based\n",
        "xforinp3 =xforinp3.transpose()\n",
        "xforinp3"
      ],
      "metadata": {
        "id": "a92ygUnnzzeK"
      },
      "execution_count": null,
      "outputs": []
    },
    {
      "cell_type": "code",
      "source": [
        "\n",
        "# mMs = MinMaxScaler()\n",
        "# mMs.fit(xforinp3.iloc[0,:])\n",
        "# xforinp3_scaled = mMs.transform(xforinp3)\n",
        "# pd.DataFrame(xforinp3_scaled)"
      ],
      "metadata": {
        "id": "R5P6sJ7kc4N3"
      },
      "execution_count": null,
      "outputs": []
    },
    {
      "cell_type": "markdown",
      "source": [
        "# FINAL OUTPUT"
      ],
      "metadata": {
        "id": "9t5Yw_6WG3wp"
      }
    },
    {
      "cell_type": "code",
      "source": [
        "modelp =modelforpred()\n",
        "modelp.fit(x_scaled_resamp,y_resamp)\n",
        "y_pred1 = modelp.predict(xforinp3)\n",
        "y_pred1[0]"
      ],
      "metadata": {
        "id": "JgkfQGZrcn0q"
      },
      "execution_count": null,
      "outputs": []
    },
    {
      "cell_type": "code",
      "source": [
        "riskfactor = []\n",
        "for i in y_pred1:\n",
        "  if i ==1:\n",
        "    riskfactor.append(\"risky\")\n",
        "  else:\n",
        "    riskfactor.append(\"not risky\")  #output for the banker\n",
        "riskfactor[0]"
      ],
      "metadata": {
        "id": "yGBE-xM-OIpH"
      },
      "execution_count": null,
      "outputs": []
    },
    {
      "cell_type": "code",
      "source": [
        "riskfactor = []\n",
        "for i in y_pred1:\n",
        "  if i ==1:\n",
        "    riskfactor.append(\"try again after few months, your loan is rejected\")\n",
        "  else:\n",
        "    riskfactor.append(\"the loan is approved for further process\")  #output for the user\n",
        "riskfactor[0]"
      ],
      "metadata": {
        "id": "yo4Cg5s6CXe4"
      },
      "execution_count": null,
      "outputs": []
    },
    {
      "cell_type": "code",
      "source": [
        "time2 = time.time()\n",
        "tottime = time2 - time1\n",
        "tottime\n"
      ],
      "metadata": {
        "id": "SO61vtk72CeS"
      },
      "execution_count": null,
      "outputs": []
    },
    {
      "cell_type": "code",
      "source": [
        "import colab\n",
        "list(colab.__dir__())"
      ],
      "metadata": {
        "id": "tfcNjuY45aRf"
      },
      "execution_count": null,
      "outputs": []
    },
    {
      "cell_type": "code",
      "source": [
        "colab.__cached__"
      ],
      "metadata": {
        "id": "ChouNKAZ615f"
      },
      "execution_count": null,
      "outputs": []
    },
    {
      "cell_type": "code",
      "source": [
        "colab.__builtins__"
      ],
      "metadata": {
        "id": "5dhrIxwx7PZm"
      },
      "execution_count": null,
      "outputs": []
    },
    {
      "cell_type": "code",
      "source": [],
      "metadata": {
        "id": "qpgYHWcn7nOo"
      },
      "execution_count": null,
      "outputs": []
    }
  ],
  "metadata": {
    "colab": {
      "collapsed_sections": [
        "oLJzDLNsVudv",
        "8L40u_jkjb8u"
      ],
      "provenance": []
    },
    "kernelspec": {
      "display_name": "Python 3",
      "name": "python3"
    },
    "language_info": {
      "name": "python"
    }
  },
  "nbformat": 4,
  "nbformat_minor": 0
}